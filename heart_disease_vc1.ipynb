{
 "cells": [
  {
   "cell_type": "code",
   "execution_count": 2,
   "id": "87d5c755-18dd-4839-a5e4-1684e0375b09",
   "metadata": {},
   "outputs": [],
   "source": [
    "import pandas as pd\n",
    "import numpy as np\n",
    "from sklearn.impute import SimpleImputer\n",
    "from sklearn.model_selection import cross_val_score, train_test_split, GridSearchCV\n",
    "from sklearn.pipeline import Pipeline, make_pipeline\n",
    "from sklearn.naive_bayes import GaussianNB\n",
    "from sklearn.compose import ColumnTransformer\n",
    "from sklearn.tree import DecisionTreeClassifier\n",
    "from sklearn.ensemble import VotingClassifier, RandomForestClassifier, GradientBoostingClassifier\n",
    "from sklearn.preprocessing import OneHotEncoder, OrdinalEncoder,StandardScaler\n",
    "from sklearn.linear_model import LogisticRegression\n",
    "from sklearn.neighbors import KNeighborsClassifier\n",
    "from sklearn.metrics import accuracy_score"
   ]
  },
  {
   "cell_type": "code",
   "execution_count": 4,
   "id": "c14be871-807c-4e5c-9597-9cdfd09e4a9d",
   "metadata": {},
   "outputs": [],
   "source": [
    "df = pd.read_csv('heart_2022_with_nans.csv')"
   ]
  },
  {
   "cell_type": "code",
   "execution_count": 5,
   "id": "ad1d1351-66b7-481c-962a-cad0ce6b4d47",
   "metadata": {},
   "outputs": [],
   "source": [
    "df.dropna(subset=['HadHeartAttack'], inplace = True)"
   ]
  },
  {
   "cell_type": "code",
   "execution_count": 6,
   "id": "09179a4d-a71b-4288-a1ec-b030d79b4098",
   "metadata": {},
   "outputs": [],
   "source": [
    "X = df.drop(columns = 'HadHeartAttack')"
   ]
  },
  {
   "cell_type": "code",
   "execution_count": 7,
   "id": "56da434b-0203-4127-a12c-71800c0fc53d",
   "metadata": {},
   "outputs": [],
   "source": [
    "y = df['HadHeartAttack']"
   ]
  },
  {
   "cell_type": "code",
   "execution_count": 8,
   "id": "d4d3924d-3c6a-4238-9a72-199c8a9a5047",
   "metadata": {},
   "outputs": [],
   "source": [
    "X_train, X_test, y_train, y_test = train_test_split(X, y, test_size = 0.15, random_state = 42)\n",
    "X_train, X_val, y_train, y_val = train_test_split(X_train, y_train, test_size = .15/.85, random_state =42)"
   ]
  },
  {
   "cell_type": "code",
   "execution_count": 9,
   "id": "40fd5049-7ce7-44e1-9b0c-ecd67687c922",
   "metadata": {},
   "outputs": [],
   "source": [
    "num_pipeline = Pipeline(steps = [\n",
    "    ('impute', SimpleImputer(strategy ='median')),\n",
    "    ('scale', StandardScaler())\n",
    "     ])"
   ]
  },
  {
   "cell_type": "code",
   "execution_count": 10,
   "id": "53be03ca-1d7f-46d1-9d64-99b90de0d99f",
   "metadata": {},
   "outputs": [],
   "source": [
    "training_num_X = X_train.select_dtypes(include = ['float64'])\n",
    "training_nom_X = X_train[['State',\n",
    " 'Sex',\n",
    " 'PhysicalActivities',\n",
    " 'HadAngina',\n",
    " 'HadStroke',\n",
    " 'HadAsthma',\n",
    " 'HadSkinCancer',\n",
    " 'HadCOPD',\n",
    " 'HadDepressiveDisorder',\n",
    " 'HadKidneyDisease',\n",
    " 'HadArthritis',\n",
    " 'DeafOrHardOfHearing',\n",
    " 'BlindOrVisionDifficulty',\n",
    " 'DifficultyConcentrating',\n",
    " 'DifficultyWalking',\n",
    " 'DifficultyDressingBathing',\n",
    " 'DifficultyErrands',\n",
    " 'ChestScan',\n",
    " 'RaceEthnicityCategory',\n",
    " 'AlcoholDrinkers',\n",
    " 'HIVTesting',\n",
    " 'FluVaxLast12',\n",
    " 'PneumoVaxEver',\n",
    " 'TetanusLast10Tdap',\n",
    " 'HighRiskLastYear']]"
   ]
  },
  {
   "cell_type": "code",
   "execution_count": 11,
   "id": "d1a2a24d-68f0-49c2-9798-3ce5393a1e07",
   "metadata": {},
   "outputs": [],
   "source": [
    "nom_pipeline = Pipeline(steps = [\n",
    "    ('impute', SimpleImputer(strategy = 'most_frequent')),\n",
    "    ('OneHotEncoder', OneHotEncoder(handle_unknown = 'ignore', sparse_output = False))\n",
    "])"
   ]
  },
  {
   "cell_type": "code",
   "execution_count": 12,
   "id": "700486f7-6f0d-45dc-a190-fb680eed0ef6",
   "metadata": {},
   "outputs": [],
   "source": [
    "ord_columns = df[['RemovedTeeth', 'AgeCategory', 'LastCheckupTime',\n",
    "                  'GeneralHealth', 'SmokerStatus', 'ECigaretteUsage', 'CovidPos', 'HadDiabetes']]"
   ]
  },
  {
   "cell_type": "code",
   "execution_count": 13,
   "id": "deca5487-421d-4ee0-bcac-e42af5f88e8e",
   "metadata": {},
   "outputs": [],
   "source": [
    "#delete all ordencs\n",
    "teeth_cats = ['None of them', '1 to 5', '6 or more, but not all', 'All']\n",
    "teeth_pipeline = Pipeline(steps = [\n",
    "    ('impute', SimpleImputer(strategy = 'most_frequent')),\n",
    "    ('encode',OrdinalEncoder(categories=[teeth_cats])),\n",
    "    ('scale', StandardScaler())\n",
    "])"
   ]
  },
  {
   "cell_type": "code",
   "execution_count": 14,
   "id": "3c2c3b87-b937-4a9a-a767-d30af171c13d",
   "metadata": {},
   "outputs": [],
   "source": [
    "age_cats = ['Age 18 to 24','Age 25 to 29','Age 30 to 34','Age 35 to 39',\n",
    "                                        'Age 40 to 44', 'Age 45 to 49','Age 50 to 54','Age 55 to 59',\n",
    "                                        'Age 60 to 64','Age 65 to 69','Age 70 to 74','Age 75 to 79',\n",
    "                                        'Age 80 or older']\n",
    "age_pipeline = Pipeline(steps = [\n",
    "    ('impute', SimpleImputer(strategy = 'most_frequent')),\n",
    "    ('encode',OrdinalEncoder(categories=[age_cats])),\n",
    "    ('scale', StandardScaler())\n",
    "])"
   ]
  },
  {
   "cell_type": "code",
   "execution_count": 15,
   "id": "161c65c9-8c8e-45ed-bd66-ff54769f4863",
   "metadata": {},
   "outputs": [],
   "source": [
    "last_checkup_cats = ['Within past year (anytime less than 12 months ago)',\n",
    "                                        'Within past 2 years (1 year but less than 2 years ago)',\n",
    "                                        'Within past 5 years (2 years but less than 5 years ago)',\n",
    "                                        '5 or more years ago']\n",
    "last_checkup_pipeline = Pipeline(steps = [\n",
    "    ('impute', SimpleImputer(strategy = 'most_frequent')),\n",
    "    ('encode',OrdinalEncoder(categories=[last_checkup_cats])),\n",
    "    ('scale', StandardScaler())\n",
    "])"
   ]
  },
  {
   "cell_type": "code",
   "execution_count": 16,
   "id": "76d66a02-953b-4825-bba3-0e0b5983d062",
   "metadata": {},
   "outputs": [],
   "source": [
    "health_cats = ['Poor', 'Fair', 'Good', 'Very good', 'Excellent']\n",
    "health_pipeline = Pipeline(steps = [\n",
    "    ('impute', SimpleImputer(strategy = 'most_frequent')),\n",
    "    ('encode',OrdinalEncoder(categories=[health_cats])),\n",
    "    ('scale', StandardScaler())\n",
    "])"
   ]
  },
  {
   "cell_type": "code",
   "execution_count": 17,
   "id": "b879a43c-4ed4-4717-bc7c-c2999df18515",
   "metadata": {},
   "outputs": [],
   "source": [
    "smoker_cats = ['Never smoked', 'Former smoker','Current smoker - now smokes some days','Current smoker - now smokes every day']\n",
    "smoker_pipeline = Pipeline(steps = [\n",
    "    ('impute', SimpleImputer(strategy = 'most_frequent')),\n",
    "    ('encode',OrdinalEncoder(categories=[smoker_cats])),\n",
    "    ('scale', StandardScaler())\n",
    "])"
   ]
  },
  {
   "cell_type": "code",
   "execution_count": 19,
   "id": "ba4a8e4b-9c5a-4da0-b2ca-5730664ab753",
   "metadata": {},
   "outputs": [],
   "source": [
    "ecig_cats = ['Never used e-cigarettes in my entire life',\n",
    "        'Not at all (right now)','Use them some days', 'Use them every day',]\n",
    "ecig_pipeline = Pipeline(steps = [\n",
    "    ('impute', SimpleImputer(strategy = 'most_frequent')),\n",
    "    ('encode',OrdinalEncoder(categories=[ecig_cats])),\n",
    "    ('scale', StandardScaler())\n",
    "])"
   ]
  },
  {
   "cell_type": "code",
   "execution_count": 20,
   "id": "34799944-cad1-4794-a3b5-d182163e5cff",
   "metadata": {},
   "outputs": [],
   "source": [
    "covid_cats = ['No',\n",
    "        'Tested positive using home test without a health professional',\n",
    "        'Yes']\n",
    "covid_pipeline = Pipeline(steps = [\n",
    "    ('impute', SimpleImputer(strategy = 'most_frequent')),\n",
    "    ('encode',OrdinalEncoder(categories=[covid_cats])),\n",
    "    ('scale', StandardScaler())\n",
    "])"
   ]
  },
  {
   "cell_type": "code",
   "execution_count": 22,
   "id": "644b8cc4-7329-470f-8abd-36b178aa584a",
   "metadata": {},
   "outputs": [],
   "source": [
    "diabetes_cats = ['No', 'No, pre-diabetes or borderline diabetes',\n",
    "        'Yes, but only during pregnancy (female)', 'Yes']\n",
    "diabetes_pipeline = Pipeline(steps = [\n",
    "    ('impute', SimpleImputer(strategy = 'most_frequent')),\n",
    "    ('encode',OrdinalEncoder(categories=[diabetes_cats])),\n",
    "    ('scale', StandardScaler())\n",
    "])"
   ]
  },
  {
   "cell_type": "code",
   "execution_count": 25,
   "id": "c559b27c-48d0-4c0e-9877-acdda252b955",
   "metadata": {},
   "outputs": [],
   "source": [
    "num_columns = df.select_dtypes(include = ['float64'])"
   ]
  },
  {
   "cell_type": "code",
   "execution_count": 26,
   "id": "feaf5f4c-2036-4f0c-ba01-55cae5bdc3a2",
   "metadata": {},
   "outputs": [
    {
     "name": "stdout",
     "output_type": "stream",
     "text": [
      "['PhysicalHealthDays', 'MentalHealthDays', 'SleepHours', 'HeightInMeters', 'WeightInKilograms', 'BMI', 'RemovedTeeth', 'AgeCategory', 'LastCheckupTime', 'GeneralHealth', 'SmokerStatus', 'ECigaretteUsage', 'CovidPos', 'HadDiabetes', 'HadHeartAttack']\n"
     ]
    }
   ],
   "source": [
    "dropped_columns = num_columns.columns.tolist() + ord_columns.columns.tolist() + ['HadHeartAttack']\n",
    "print(dropped_columns)"
   ]
  },
  {
   "cell_type": "code",
   "execution_count": 29,
   "id": "dddce5a8-c196-4ca1-8a7e-cdf4443eb152",
   "metadata": {},
   "outputs": [],
   "source": [
    "nom_columns = df.drop(dropped_columns, axis = 1)"
   ]
  },
  {
   "cell_type": "code",
   "execution_count": 41,
   "id": "1f586e79-5616-40fd-b1fc-b0786914910d",
   "metadata": {},
   "outputs": [
    {
     "name": "stdout",
     "output_type": "stream",
     "text": [
      "['RemovedTeeth', 'AgeCategory', 'LastCheckupTime', 'GeneralHealth', 'SmokerStatus', 'ECigaretteUsage', 'CovidPos', 'HadDiabetes']\n"
     ]
    }
   ],
   "source": [
    "num_columns_list = num_columns.columns.tolist()\n",
    "nom_columns_list = nom_columns.columns.tolist()\n",
    "ord_columns_list = ord_columns.columns.tolist()\n",
    "print(ord_columns_list)"
   ]
  },
  {
   "cell_type": "code",
   "execution_count": 44,
   "id": "a95d94ba-dfe3-4a04-86bd-069e7bcc0e66",
   "metadata": {},
   "outputs": [],
   "source": [
    "ct = ColumnTransformer(\n",
    "    transformers=[\n",
    "        ('num_pipeline', num_pipeline, num_columns_list),  \n",
    "        ('nom_pipeline', nom_pipeline, nom_columns_list),  \n",
    "        ('teeth_pipeline', teeth_pipeline, ['RemovedTeeth']),  \n",
    "      ('age_pipeline', age_pipeline, ['AgeCategory']),    \n",
    "      ('last_checkup_pipeline', last_checkup_pipeline, ['LastCheckupTime']),  \n",
    "       ('health_pipeline', health_pipeline, ['GeneralHealth']),  \n",
    "      ('smoker_pipeline', smoker_pipeline, ['SmokerStatus']),  \n",
    "      ('ecig_pipeline', ecig_pipeline, ['ECigaretteUsage']),  \n",
    "      ('covid_pipeline', covid_pipeline, ['CovidPos']),  \n",
    "    ('diabetes_pipeline', diabetes_pipeline, ['HadDiabetes'])  \n",
    "    ],\n",
    "    remainder='drop',\n",
    "    n_jobs=-1\n",
    ")"
   ]
  },
  {
   "cell_type": "code",
   "execution_count": 46,
   "id": "30e969a8-70b7-461d-b12f-58f2e5207929",
   "metadata": {},
   "outputs": [],
   "source": [
    "rfc = RandomForestClassifier()"
   ]
  },
  {
   "cell_type": "code",
   "execution_count": 50,
   "id": "03843290-1197-4856-a2ab-6b626d9f2b57",
   "metadata": {},
   "outputs": [],
   "source": [
    "knn = KNeighborsClassifier()"
   ]
  },
  {
   "cell_type": "code",
   "execution_count": 52,
   "id": "a0aedd31-fb0d-45a0-b37a-dea224fd1518",
   "metadata": {},
   "outputs": [],
   "source": [
    "lr = LogisticRegression(max_iter=500)"
   ]
  },
  {
   "cell_type": "code",
   "execution_count": 91,
   "id": "e33ab1a2-7d86-444d-bdb3-f9d3aca63b0c",
   "metadata": {},
   "outputs": [],
   "source": [
    "X_sample = X_train.sample(10000, random_state =42)\n",
    "y_sample = y_train.sample(10000, random_state =42)"
   ]
  },
  {
   "cell_type": "code",
   "execution_count": 93,
   "id": "71e26721-d9c6-44ec-9a03-31dbcdf2ffe5",
   "metadata": {},
   "outputs": [],
   "source": [
    "X_tran = ct.fit_transform(X_sample)\n",
    "y_tran = y_sample"
   ]
  },
  {
   "cell_type": "code",
   "execution_count": 95,
   "id": "6efcf0a1-60d5-46a6-9f40-a9f823a5ddff",
   "metadata": {},
   "outputs": [],
   "source": [
    "rfc_param_grid = [{\n",
    "    'n_estimators':[25,50,100],\n",
    "    'max_depth':[5,10,20,40],\n",
    "    'min_samples_split':[2,3,4],\n",
    "    'min_samples_leaf':[1,2,3],\n",
    "    'max_features':['sqrt','log2'],\n",
    "    'max_leaf_nodes':[25,50,100,200]\n",
    "}]"
   ]
  },
  {
   "cell_type": "code",
   "execution_count": 97,
   "id": "821cb019-0d7c-4541-99e5-a84946a4fcb6",
   "metadata": {},
   "outputs": [],
   "source": [
    "rfc_grid_search = GridSearchCV(rfc, rfc_param_grid, cv=3, scoring='accuracy', n_jobs=-1,error_score='raise')"
   ]
  },
  {
   "cell_type": "code",
   "execution_count": 99,
   "id": "a5b0701f-13c2-461c-ba86-8fc5dba7d32f",
   "metadata": {
    "scrolled": true
   },
   "outputs": [
    {
     "data": {
      "text/html": [
       "<style>#sk-container-id-1 {color: black;background-color: white;}#sk-container-id-1 pre{padding: 0;}#sk-container-id-1 div.sk-toggleable {background-color: white;}#sk-container-id-1 label.sk-toggleable__label {cursor: pointer;display: block;width: 100%;margin-bottom: 0;padding: 0.3em;box-sizing: border-box;text-align: center;}#sk-container-id-1 label.sk-toggleable__label-arrow:before {content: \"▸\";float: left;margin-right: 0.25em;color: #696969;}#sk-container-id-1 label.sk-toggleable__label-arrow:hover:before {color: black;}#sk-container-id-1 div.sk-estimator:hover label.sk-toggleable__label-arrow:before {color: black;}#sk-container-id-1 div.sk-toggleable__content {max-height: 0;max-width: 0;overflow: hidden;text-align: left;background-color: #f0f8ff;}#sk-container-id-1 div.sk-toggleable__content pre {margin: 0.2em;color: black;border-radius: 0.25em;background-color: #f0f8ff;}#sk-container-id-1 input.sk-toggleable__control:checked~div.sk-toggleable__content {max-height: 200px;max-width: 100%;overflow: auto;}#sk-container-id-1 input.sk-toggleable__control:checked~label.sk-toggleable__label-arrow:before {content: \"▾\";}#sk-container-id-1 div.sk-estimator input.sk-toggleable__control:checked~label.sk-toggleable__label {background-color: #d4ebff;}#sk-container-id-1 div.sk-label input.sk-toggleable__control:checked~label.sk-toggleable__label {background-color: #d4ebff;}#sk-container-id-1 input.sk-hidden--visually {border: 0;clip: rect(1px 1px 1px 1px);clip: rect(1px, 1px, 1px, 1px);height: 1px;margin: -1px;overflow: hidden;padding: 0;position: absolute;width: 1px;}#sk-container-id-1 div.sk-estimator {font-family: monospace;background-color: #f0f8ff;border: 1px dotted black;border-radius: 0.25em;box-sizing: border-box;margin-bottom: 0.5em;}#sk-container-id-1 div.sk-estimator:hover {background-color: #d4ebff;}#sk-container-id-1 div.sk-parallel-item::after {content: \"\";width: 100%;border-bottom: 1px solid gray;flex-grow: 1;}#sk-container-id-1 div.sk-label:hover label.sk-toggleable__label {background-color: #d4ebff;}#sk-container-id-1 div.sk-serial::before {content: \"\";position: absolute;border-left: 1px solid gray;box-sizing: border-box;top: 0;bottom: 0;left: 50%;z-index: 0;}#sk-container-id-1 div.sk-serial {display: flex;flex-direction: column;align-items: center;background-color: white;padding-right: 0.2em;padding-left: 0.2em;position: relative;}#sk-container-id-1 div.sk-item {position: relative;z-index: 1;}#sk-container-id-1 div.sk-parallel {display: flex;align-items: stretch;justify-content: center;background-color: white;position: relative;}#sk-container-id-1 div.sk-item::before, #sk-container-id-1 div.sk-parallel-item::before {content: \"\";position: absolute;border-left: 1px solid gray;box-sizing: border-box;top: 0;bottom: 0;left: 50%;z-index: -1;}#sk-container-id-1 div.sk-parallel-item {display: flex;flex-direction: column;z-index: 1;position: relative;background-color: white;}#sk-container-id-1 div.sk-parallel-item:first-child::after {align-self: flex-end;width: 50%;}#sk-container-id-1 div.sk-parallel-item:last-child::after {align-self: flex-start;width: 50%;}#sk-container-id-1 div.sk-parallel-item:only-child::after {width: 0;}#sk-container-id-1 div.sk-dashed-wrapped {border: 1px dashed gray;margin: 0 0.4em 0.5em 0.4em;box-sizing: border-box;padding-bottom: 0.4em;background-color: white;}#sk-container-id-1 div.sk-label label {font-family: monospace;font-weight: bold;display: inline-block;line-height: 1.2em;}#sk-container-id-1 div.sk-label-container {text-align: center;}#sk-container-id-1 div.sk-container {/* jupyter's `normalize.less` sets `[hidden] { display: none; }` but bootstrap.min.css set `[hidden] { display: none !important; }` so we also need the `!important` here to be able to override the default hidden behavior on the sphinx rendered scikit-learn.org. See: https://github.com/scikit-learn/scikit-learn/issues/21755 */display: inline-block !important;position: relative;}#sk-container-id-1 div.sk-text-repr-fallback {display: none;}</style><div id=\"sk-container-id-1\" class=\"sk-top-container\"><div class=\"sk-text-repr-fallback\"><pre>GridSearchCV(cv=3, error_score=&#x27;raise&#x27;, estimator=RandomForestClassifier(),\n",
       "             n_jobs=-1,\n",
       "             param_grid=[{&#x27;max_depth&#x27;: [5, 10, 20, 40],\n",
       "                          &#x27;max_features&#x27;: [&#x27;sqrt&#x27;, &#x27;log2&#x27;],\n",
       "                          &#x27;max_leaf_nodes&#x27;: [25, 50, 100, 200],\n",
       "                          &#x27;min_samples_leaf&#x27;: [1, 2, 3],\n",
       "                          &#x27;min_samples_split&#x27;: [2, 3, 4],\n",
       "                          &#x27;n_estimators&#x27;: [25, 50, 100]}],\n",
       "             scoring=&#x27;accuracy&#x27;)</pre><b>In a Jupyter environment, please rerun this cell to show the HTML representation or trust the notebook. <br />On GitHub, the HTML representation is unable to render, please try loading this page with nbviewer.org.</b></div><div class=\"sk-container\" hidden><div class=\"sk-item sk-dashed-wrapped\"><div class=\"sk-label-container\"><div class=\"sk-label sk-toggleable\"><input class=\"sk-toggleable__control sk-hidden--visually\" id=\"sk-estimator-id-1\" type=\"checkbox\" ><label for=\"sk-estimator-id-1\" class=\"sk-toggleable__label sk-toggleable__label-arrow\">GridSearchCV</label><div class=\"sk-toggleable__content\"><pre>GridSearchCV(cv=3, error_score=&#x27;raise&#x27;, estimator=RandomForestClassifier(),\n",
       "             n_jobs=-1,\n",
       "             param_grid=[{&#x27;max_depth&#x27;: [5, 10, 20, 40],\n",
       "                          &#x27;max_features&#x27;: [&#x27;sqrt&#x27;, &#x27;log2&#x27;],\n",
       "                          &#x27;max_leaf_nodes&#x27;: [25, 50, 100, 200],\n",
       "                          &#x27;min_samples_leaf&#x27;: [1, 2, 3],\n",
       "                          &#x27;min_samples_split&#x27;: [2, 3, 4],\n",
       "                          &#x27;n_estimators&#x27;: [25, 50, 100]}],\n",
       "             scoring=&#x27;accuracy&#x27;)</pre></div></div></div><div class=\"sk-parallel\"><div class=\"sk-parallel-item\"><div class=\"sk-item\"><div class=\"sk-label-container\"><div class=\"sk-label sk-toggleable\"><input class=\"sk-toggleable__control sk-hidden--visually\" id=\"sk-estimator-id-2\" type=\"checkbox\" ><label for=\"sk-estimator-id-2\" class=\"sk-toggleable__label sk-toggleable__label-arrow\">estimator: RandomForestClassifier</label><div class=\"sk-toggleable__content\"><pre>RandomForestClassifier()</pre></div></div></div><div class=\"sk-serial\"><div class=\"sk-item\"><div class=\"sk-estimator sk-toggleable\"><input class=\"sk-toggleable__control sk-hidden--visually\" id=\"sk-estimator-id-3\" type=\"checkbox\" ><label for=\"sk-estimator-id-3\" class=\"sk-toggleable__label sk-toggleable__label-arrow\">RandomForestClassifier</label><div class=\"sk-toggleable__content\"><pre>RandomForestClassifier()</pre></div></div></div></div></div></div></div></div></div></div>"
      ],
      "text/plain": [
       "GridSearchCV(cv=3, error_score='raise', estimator=RandomForestClassifier(),\n",
       "             n_jobs=-1,\n",
       "             param_grid=[{'max_depth': [5, 10, 20, 40],\n",
       "                          'max_features': ['sqrt', 'log2'],\n",
       "                          'max_leaf_nodes': [25, 50, 100, 200],\n",
       "                          'min_samples_leaf': [1, 2, 3],\n",
       "                          'min_samples_split': [2, 3, 4],\n",
       "                          'n_estimators': [25, 50, 100]}],\n",
       "             scoring='accuracy')"
      ]
     },
     "execution_count": 99,
     "metadata": {},
     "output_type": "execute_result"
    }
   ],
   "source": [
    "rfc_grid_search.fit(X_tran, y_tran)"
   ]
  },
  {
   "cell_type": "code",
   "execution_count": 100,
   "id": "8a719c8e-2ef5-47b2-a3f2-3e0042875107",
   "metadata": {},
   "outputs": [
    {
     "data": {
      "text/plain": [
       "0.9458997789401016"
      ]
     },
     "execution_count": 100,
     "metadata": {},
     "output_type": "execute_result"
    }
   ],
   "source": [
    "rfc_grid_search.best_score_"
   ]
  },
  {
   "cell_type": "code",
   "execution_count": 101,
   "id": "aa0c6a7b-bfa0-4c9a-b327-2fa2419ccbc8",
   "metadata": {},
   "outputs": [
    {
     "data": {
      "text/plain": [
       "{'max_depth': 20,\n",
       " 'max_features': 'sqrt',\n",
       " 'max_leaf_nodes': 200,\n",
       " 'min_samples_leaf': 2,\n",
       " 'min_samples_split': 4,\n",
       " 'n_estimators': 25}"
      ]
     },
     "execution_count": 101,
     "metadata": {},
     "output_type": "execute_result"
    }
   ],
   "source": [
    "rfc_grid_search.best_params_"
   ]
  },
  {
   "cell_type": "code",
   "execution_count": 102,
   "id": "1548842b-a876-4a09-a53a-d082bebd7791",
   "metadata": {},
   "outputs": [],
   "source": [
    "rfc2 = RandomForestClassifier(max_depth= 5,max_features= 'sqrt',max_leaf_nodes= 25,min_samples_leaf= 1,\n",
    " min_samples_split= 2,\n",
    " n_estimators= 25)"
   ]
  },
  {
   "cell_type": "code",
   "execution_count": 103,
   "id": "51af9048-53c8-41ef-ad59-71a9fecae8d3",
   "metadata": {},
   "outputs": [],
   "source": [
    "knn_param_grid = [{\n",
    "    'n_neighbors':[5,6,7,8,9,10],\n",
    "    'leaf_size':[5,10,15,30,45]\n",
    "}]"
   ]
  },
  {
   "cell_type": "code",
   "execution_count": 104,
   "id": "e975aa05-f372-4535-9645-002e9a909303",
   "metadata": {},
   "outputs": [],
   "source": [
    "knn_param_search = GridSearchCV(knn, knn_param_grid, cv = 5, scoring='accuracy', n_jobs=-1)"
   ]
  },
  {
   "cell_type": "code",
   "execution_count": 105,
   "id": "aa3e5f54-2ee6-4bcf-b9a1-5d1781857977",
   "metadata": {},
   "outputs": [
    {
     "data": {
      "text/html": [
       "<style>#sk-container-id-2 {color: black;background-color: white;}#sk-container-id-2 pre{padding: 0;}#sk-container-id-2 div.sk-toggleable {background-color: white;}#sk-container-id-2 label.sk-toggleable__label {cursor: pointer;display: block;width: 100%;margin-bottom: 0;padding: 0.3em;box-sizing: border-box;text-align: center;}#sk-container-id-2 label.sk-toggleable__label-arrow:before {content: \"▸\";float: left;margin-right: 0.25em;color: #696969;}#sk-container-id-2 label.sk-toggleable__label-arrow:hover:before {color: black;}#sk-container-id-2 div.sk-estimator:hover label.sk-toggleable__label-arrow:before {color: black;}#sk-container-id-2 div.sk-toggleable__content {max-height: 0;max-width: 0;overflow: hidden;text-align: left;background-color: #f0f8ff;}#sk-container-id-2 div.sk-toggleable__content pre {margin: 0.2em;color: black;border-radius: 0.25em;background-color: #f0f8ff;}#sk-container-id-2 input.sk-toggleable__control:checked~div.sk-toggleable__content {max-height: 200px;max-width: 100%;overflow: auto;}#sk-container-id-2 input.sk-toggleable__control:checked~label.sk-toggleable__label-arrow:before {content: \"▾\";}#sk-container-id-2 div.sk-estimator input.sk-toggleable__control:checked~label.sk-toggleable__label {background-color: #d4ebff;}#sk-container-id-2 div.sk-label input.sk-toggleable__control:checked~label.sk-toggleable__label {background-color: #d4ebff;}#sk-container-id-2 input.sk-hidden--visually {border: 0;clip: rect(1px 1px 1px 1px);clip: rect(1px, 1px, 1px, 1px);height: 1px;margin: -1px;overflow: hidden;padding: 0;position: absolute;width: 1px;}#sk-container-id-2 div.sk-estimator {font-family: monospace;background-color: #f0f8ff;border: 1px dotted black;border-radius: 0.25em;box-sizing: border-box;margin-bottom: 0.5em;}#sk-container-id-2 div.sk-estimator:hover {background-color: #d4ebff;}#sk-container-id-2 div.sk-parallel-item::after {content: \"\";width: 100%;border-bottom: 1px solid gray;flex-grow: 1;}#sk-container-id-2 div.sk-label:hover label.sk-toggleable__label {background-color: #d4ebff;}#sk-container-id-2 div.sk-serial::before {content: \"\";position: absolute;border-left: 1px solid gray;box-sizing: border-box;top: 0;bottom: 0;left: 50%;z-index: 0;}#sk-container-id-2 div.sk-serial {display: flex;flex-direction: column;align-items: center;background-color: white;padding-right: 0.2em;padding-left: 0.2em;position: relative;}#sk-container-id-2 div.sk-item {position: relative;z-index: 1;}#sk-container-id-2 div.sk-parallel {display: flex;align-items: stretch;justify-content: center;background-color: white;position: relative;}#sk-container-id-2 div.sk-item::before, #sk-container-id-2 div.sk-parallel-item::before {content: \"\";position: absolute;border-left: 1px solid gray;box-sizing: border-box;top: 0;bottom: 0;left: 50%;z-index: -1;}#sk-container-id-2 div.sk-parallel-item {display: flex;flex-direction: column;z-index: 1;position: relative;background-color: white;}#sk-container-id-2 div.sk-parallel-item:first-child::after {align-self: flex-end;width: 50%;}#sk-container-id-2 div.sk-parallel-item:last-child::after {align-self: flex-start;width: 50%;}#sk-container-id-2 div.sk-parallel-item:only-child::after {width: 0;}#sk-container-id-2 div.sk-dashed-wrapped {border: 1px dashed gray;margin: 0 0.4em 0.5em 0.4em;box-sizing: border-box;padding-bottom: 0.4em;background-color: white;}#sk-container-id-2 div.sk-label label {font-family: monospace;font-weight: bold;display: inline-block;line-height: 1.2em;}#sk-container-id-2 div.sk-label-container {text-align: center;}#sk-container-id-2 div.sk-container {/* jupyter's `normalize.less` sets `[hidden] { display: none; }` but bootstrap.min.css set `[hidden] { display: none !important; }` so we also need the `!important` here to be able to override the default hidden behavior on the sphinx rendered scikit-learn.org. See: https://github.com/scikit-learn/scikit-learn/issues/21755 */display: inline-block !important;position: relative;}#sk-container-id-2 div.sk-text-repr-fallback {display: none;}</style><div id=\"sk-container-id-2\" class=\"sk-top-container\"><div class=\"sk-text-repr-fallback\"><pre>GridSearchCV(cv=5, estimator=KNeighborsClassifier(), n_jobs=-1,\n",
       "             param_grid=[{&#x27;leaf_size&#x27;: [5, 10, 15, 30, 45],\n",
       "                          &#x27;n_neighbors&#x27;: [5, 6, 7, 8, 9, 10]}],\n",
       "             scoring=&#x27;accuracy&#x27;)</pre><b>In a Jupyter environment, please rerun this cell to show the HTML representation or trust the notebook. <br />On GitHub, the HTML representation is unable to render, please try loading this page with nbviewer.org.</b></div><div class=\"sk-container\" hidden><div class=\"sk-item sk-dashed-wrapped\"><div class=\"sk-label-container\"><div class=\"sk-label sk-toggleable\"><input class=\"sk-toggleable__control sk-hidden--visually\" id=\"sk-estimator-id-4\" type=\"checkbox\" ><label for=\"sk-estimator-id-4\" class=\"sk-toggleable__label sk-toggleable__label-arrow\">GridSearchCV</label><div class=\"sk-toggleable__content\"><pre>GridSearchCV(cv=5, estimator=KNeighborsClassifier(), n_jobs=-1,\n",
       "             param_grid=[{&#x27;leaf_size&#x27;: [5, 10, 15, 30, 45],\n",
       "                          &#x27;n_neighbors&#x27;: [5, 6, 7, 8, 9, 10]}],\n",
       "             scoring=&#x27;accuracy&#x27;)</pre></div></div></div><div class=\"sk-parallel\"><div class=\"sk-parallel-item\"><div class=\"sk-item\"><div class=\"sk-label-container\"><div class=\"sk-label sk-toggleable\"><input class=\"sk-toggleable__control sk-hidden--visually\" id=\"sk-estimator-id-5\" type=\"checkbox\" ><label for=\"sk-estimator-id-5\" class=\"sk-toggleable__label sk-toggleable__label-arrow\">estimator: KNeighborsClassifier</label><div class=\"sk-toggleable__content\"><pre>KNeighborsClassifier()</pre></div></div></div><div class=\"sk-serial\"><div class=\"sk-item\"><div class=\"sk-estimator sk-toggleable\"><input class=\"sk-toggleable__control sk-hidden--visually\" id=\"sk-estimator-id-6\" type=\"checkbox\" ><label for=\"sk-estimator-id-6\" class=\"sk-toggleable__label sk-toggleable__label-arrow\">KNeighborsClassifier</label><div class=\"sk-toggleable__content\"><pre>KNeighborsClassifier()</pre></div></div></div></div></div></div></div></div></div></div>"
      ],
      "text/plain": [
       "GridSearchCV(cv=5, estimator=KNeighborsClassifier(), n_jobs=-1,\n",
       "             param_grid=[{'leaf_size': [5, 10, 15, 30, 45],\n",
       "                          'n_neighbors': [5, 6, 7, 8, 9, 10]}],\n",
       "             scoring='accuracy')"
      ]
     },
     "execution_count": 105,
     "metadata": {},
     "output_type": "execute_result"
    }
   ],
   "source": [
    "knn_param_search.fit(X_tran, y_tran)"
   ]
  },
  {
   "cell_type": "code",
   "execution_count": 106,
   "id": "8866f486-9da4-467f-8920-f1cfbc522bac",
   "metadata": {},
   "outputs": [
    {
     "data": {
      "text/plain": [
       "0.9433999999999999"
      ]
     },
     "execution_count": 106,
     "metadata": {},
     "output_type": "execute_result"
    }
   ],
   "source": [
    "knn_param_search.best_score_"
   ]
  },
  {
   "cell_type": "code",
   "execution_count": 107,
   "id": "c87fa2a0-a7a3-4168-acc2-00c06e20f1bd",
   "metadata": {},
   "outputs": [
    {
     "data": {
      "text/plain": [
       "{'leaf_size': 5, 'n_neighbors': 10}"
      ]
     },
     "execution_count": 107,
     "metadata": {},
     "output_type": "execute_result"
    }
   ],
   "source": [
    "knn_param_search.best_params_"
   ]
  },
  {
   "cell_type": "code",
   "execution_count": 108,
   "id": "f5a22f40-369f-4eba-b8c8-fb31d1ac34a9",
   "metadata": {},
   "outputs": [],
   "source": [
    "knn2 = KNeighborsClassifier(leaf_size= 5, n_neighbors=6)"
   ]
  },
  {
   "cell_type": "code",
   "execution_count": 109,
   "id": "f52c21e7-81fd-4b96-b881-635626a7c1ea",
   "metadata": {},
   "outputs": [],
   "source": [
    "vc = VotingClassifier([('RandomForest',rfc2),('LogisticRegression',lr),('KNN',knn2)])"
   ]
  },
  {
   "cell_type": "code",
   "execution_count": 110,
   "id": "7cee5fbe-532a-4064-a03f-f8274d166c22",
   "metadata": {},
   "outputs": [],
   "source": [
    "vc_param_grid = {'voting':['hard','soft'],\n",
    "                 'weights':[(1,1,1),(2,1,1),(1,2,1),(1,1,2)]}"
   ]
  },
  {
   "cell_type": "code",
   "execution_count": 111,
   "id": "fc2cac1d-c19b-4c82-8eef-9a302f1c7b96",
   "metadata": {},
   "outputs": [],
   "source": [
    "vc_search = GridSearchCV(vc, vc_param_grid,cv =5,scoring='accuracy', n_jobs=-1)"
   ]
  },
  {
   "cell_type": "code",
   "execution_count": 112,
   "id": "9cd6167d-c9bc-48a5-926c-c5845ef0e156",
   "metadata": {},
   "outputs": [
    {
     "data": {
      "text/html": [
       "<style>#sk-container-id-3 {color: black;background-color: white;}#sk-container-id-3 pre{padding: 0;}#sk-container-id-3 div.sk-toggleable {background-color: white;}#sk-container-id-3 label.sk-toggleable__label {cursor: pointer;display: block;width: 100%;margin-bottom: 0;padding: 0.3em;box-sizing: border-box;text-align: center;}#sk-container-id-3 label.sk-toggleable__label-arrow:before {content: \"▸\";float: left;margin-right: 0.25em;color: #696969;}#sk-container-id-3 label.sk-toggleable__label-arrow:hover:before {color: black;}#sk-container-id-3 div.sk-estimator:hover label.sk-toggleable__label-arrow:before {color: black;}#sk-container-id-3 div.sk-toggleable__content {max-height: 0;max-width: 0;overflow: hidden;text-align: left;background-color: #f0f8ff;}#sk-container-id-3 div.sk-toggleable__content pre {margin: 0.2em;color: black;border-radius: 0.25em;background-color: #f0f8ff;}#sk-container-id-3 input.sk-toggleable__control:checked~div.sk-toggleable__content {max-height: 200px;max-width: 100%;overflow: auto;}#sk-container-id-3 input.sk-toggleable__control:checked~label.sk-toggleable__label-arrow:before {content: \"▾\";}#sk-container-id-3 div.sk-estimator input.sk-toggleable__control:checked~label.sk-toggleable__label {background-color: #d4ebff;}#sk-container-id-3 div.sk-label input.sk-toggleable__control:checked~label.sk-toggleable__label {background-color: #d4ebff;}#sk-container-id-3 input.sk-hidden--visually {border: 0;clip: rect(1px 1px 1px 1px);clip: rect(1px, 1px, 1px, 1px);height: 1px;margin: -1px;overflow: hidden;padding: 0;position: absolute;width: 1px;}#sk-container-id-3 div.sk-estimator {font-family: monospace;background-color: #f0f8ff;border: 1px dotted black;border-radius: 0.25em;box-sizing: border-box;margin-bottom: 0.5em;}#sk-container-id-3 div.sk-estimator:hover {background-color: #d4ebff;}#sk-container-id-3 div.sk-parallel-item::after {content: \"\";width: 100%;border-bottom: 1px solid gray;flex-grow: 1;}#sk-container-id-3 div.sk-label:hover label.sk-toggleable__label {background-color: #d4ebff;}#sk-container-id-3 div.sk-serial::before {content: \"\";position: absolute;border-left: 1px solid gray;box-sizing: border-box;top: 0;bottom: 0;left: 50%;z-index: 0;}#sk-container-id-3 div.sk-serial {display: flex;flex-direction: column;align-items: center;background-color: white;padding-right: 0.2em;padding-left: 0.2em;position: relative;}#sk-container-id-3 div.sk-item {position: relative;z-index: 1;}#sk-container-id-3 div.sk-parallel {display: flex;align-items: stretch;justify-content: center;background-color: white;position: relative;}#sk-container-id-3 div.sk-item::before, #sk-container-id-3 div.sk-parallel-item::before {content: \"\";position: absolute;border-left: 1px solid gray;box-sizing: border-box;top: 0;bottom: 0;left: 50%;z-index: -1;}#sk-container-id-3 div.sk-parallel-item {display: flex;flex-direction: column;z-index: 1;position: relative;background-color: white;}#sk-container-id-3 div.sk-parallel-item:first-child::after {align-self: flex-end;width: 50%;}#sk-container-id-3 div.sk-parallel-item:last-child::after {align-self: flex-start;width: 50%;}#sk-container-id-3 div.sk-parallel-item:only-child::after {width: 0;}#sk-container-id-3 div.sk-dashed-wrapped {border: 1px dashed gray;margin: 0 0.4em 0.5em 0.4em;box-sizing: border-box;padding-bottom: 0.4em;background-color: white;}#sk-container-id-3 div.sk-label label {font-family: monospace;font-weight: bold;display: inline-block;line-height: 1.2em;}#sk-container-id-3 div.sk-label-container {text-align: center;}#sk-container-id-3 div.sk-container {/* jupyter's `normalize.less` sets `[hidden] { display: none; }` but bootstrap.min.css set `[hidden] { display: none !important; }` so we also need the `!important` here to be able to override the default hidden behavior on the sphinx rendered scikit-learn.org. See: https://github.com/scikit-learn/scikit-learn/issues/21755 */display: inline-block !important;position: relative;}#sk-container-id-3 div.sk-text-repr-fallback {display: none;}</style><div id=\"sk-container-id-3\" class=\"sk-top-container\"><div class=\"sk-text-repr-fallback\"><pre>GridSearchCV(cv=5,\n",
       "             estimator=VotingClassifier(estimators=[(&#x27;RandomForest&#x27;,\n",
       "                                                     RandomForestClassifier(max_depth=5,\n",
       "                                                                            max_leaf_nodes=25,\n",
       "                                                                            n_estimators=25)),\n",
       "                                                    (&#x27;LogisticRegression&#x27;,\n",
       "                                                     LogisticRegression(max_iter=500)),\n",
       "                                                    (&#x27;KNN&#x27;,\n",
       "                                                     KNeighborsClassifier(leaf_size=5,\n",
       "                                                                          n_neighbors=6))]),\n",
       "             n_jobs=-1,\n",
       "             param_grid={&#x27;voting&#x27;: [&#x27;hard&#x27;, &#x27;soft&#x27;],\n",
       "                         &#x27;weights&#x27;: [(1, 1, 1), (2, 1, 1), (1, 2, 1),\n",
       "                                     (1, 1, 2)]},\n",
       "             scoring=&#x27;accuracy&#x27;)</pre><b>In a Jupyter environment, please rerun this cell to show the HTML representation or trust the notebook. <br />On GitHub, the HTML representation is unable to render, please try loading this page with nbviewer.org.</b></div><div class=\"sk-container\" hidden><div class=\"sk-item sk-dashed-wrapped\"><div class=\"sk-label-container\"><div class=\"sk-label sk-toggleable\"><input class=\"sk-toggleable__control sk-hidden--visually\" id=\"sk-estimator-id-7\" type=\"checkbox\" ><label for=\"sk-estimator-id-7\" class=\"sk-toggleable__label sk-toggleable__label-arrow\">GridSearchCV</label><div class=\"sk-toggleable__content\"><pre>GridSearchCV(cv=5,\n",
       "             estimator=VotingClassifier(estimators=[(&#x27;RandomForest&#x27;,\n",
       "                                                     RandomForestClassifier(max_depth=5,\n",
       "                                                                            max_leaf_nodes=25,\n",
       "                                                                            n_estimators=25)),\n",
       "                                                    (&#x27;LogisticRegression&#x27;,\n",
       "                                                     LogisticRegression(max_iter=500)),\n",
       "                                                    (&#x27;KNN&#x27;,\n",
       "                                                     KNeighborsClassifier(leaf_size=5,\n",
       "                                                                          n_neighbors=6))]),\n",
       "             n_jobs=-1,\n",
       "             param_grid={&#x27;voting&#x27;: [&#x27;hard&#x27;, &#x27;soft&#x27;],\n",
       "                         &#x27;weights&#x27;: [(1, 1, 1), (2, 1, 1), (1, 2, 1),\n",
       "                                     (1, 1, 2)]},\n",
       "             scoring=&#x27;accuracy&#x27;)</pre></div></div></div><div class=\"sk-parallel\"><div class=\"sk-parallel-item\"><div class=\"sk-item\"><div class=\"sk-label-container\"><div class=\"sk-label sk-toggleable\"><input class=\"sk-toggleable__control sk-hidden--visually\" id=\"sk-estimator-id-8\" type=\"checkbox\" ><label for=\"sk-estimator-id-8\" class=\"sk-toggleable__label sk-toggleable__label-arrow\">estimator: VotingClassifier</label><div class=\"sk-toggleable__content\"><pre>VotingClassifier(estimators=[(&#x27;RandomForest&#x27;,\n",
       "                              RandomForestClassifier(max_depth=5,\n",
       "                                                     max_leaf_nodes=25,\n",
       "                                                     n_estimators=25)),\n",
       "                             (&#x27;LogisticRegression&#x27;,\n",
       "                              LogisticRegression(max_iter=500)),\n",
       "                             (&#x27;KNN&#x27;,\n",
       "                              KNeighborsClassifier(leaf_size=5,\n",
       "                                                   n_neighbors=6))])</pre></div></div></div><div class=\"sk-serial\"><div class=\"sk-item sk-dashed-wrapped\"><div class=\"sk-parallel\"><div class=\"sk-parallel-item\"><div class=\"sk-item\"><div class=\"sk-label-container\"><div class=\"sk-label sk-toggleable\"><label>RandomForest</label></div></div><div class=\"sk-serial\"><div class=\"sk-item\"><div class=\"sk-estimator sk-toggleable\"><input class=\"sk-toggleable__control sk-hidden--visually\" id=\"sk-estimator-id-9\" type=\"checkbox\" ><label for=\"sk-estimator-id-9\" class=\"sk-toggleable__label sk-toggleable__label-arrow\">RandomForestClassifier</label><div class=\"sk-toggleable__content\"><pre>RandomForestClassifier(max_depth=5, max_leaf_nodes=25, n_estimators=25)</pre></div></div></div></div></div></div><div class=\"sk-parallel-item\"><div class=\"sk-item\"><div class=\"sk-label-container\"><div class=\"sk-label sk-toggleable\"><label>LogisticRegression</label></div></div><div class=\"sk-serial\"><div class=\"sk-item\"><div class=\"sk-estimator sk-toggleable\"><input class=\"sk-toggleable__control sk-hidden--visually\" id=\"sk-estimator-id-10\" type=\"checkbox\" ><label for=\"sk-estimator-id-10\" class=\"sk-toggleable__label sk-toggleable__label-arrow\">LogisticRegression</label><div class=\"sk-toggleable__content\"><pre>LogisticRegression(max_iter=500)</pre></div></div></div></div></div></div><div class=\"sk-parallel-item\"><div class=\"sk-item\"><div class=\"sk-label-container\"><div class=\"sk-label sk-toggleable\"><label>KNN</label></div></div><div class=\"sk-serial\"><div class=\"sk-item\"><div class=\"sk-estimator sk-toggleable\"><input class=\"sk-toggleable__control sk-hidden--visually\" id=\"sk-estimator-id-11\" type=\"checkbox\" ><label for=\"sk-estimator-id-11\" class=\"sk-toggleable__label sk-toggleable__label-arrow\">KNeighborsClassifier</label><div class=\"sk-toggleable__content\"><pre>KNeighborsClassifier(leaf_size=5, n_neighbors=6)</pre></div></div></div></div></div></div></div></div></div></div></div></div></div></div></div>"
      ],
      "text/plain": [
       "GridSearchCV(cv=5,\n",
       "             estimator=VotingClassifier(estimators=[('RandomForest',\n",
       "                                                     RandomForestClassifier(max_depth=5,\n",
       "                                                                            max_leaf_nodes=25,\n",
       "                                                                            n_estimators=25)),\n",
       "                                                    ('LogisticRegression',\n",
       "                                                     LogisticRegression(max_iter=500)),\n",
       "                                                    ('KNN',\n",
       "                                                     KNeighborsClassifier(leaf_size=5,\n",
       "                                                                          n_neighbors=6))]),\n",
       "             n_jobs=-1,\n",
       "             param_grid={'voting': ['hard', 'soft'],\n",
       "                         'weights': [(1, 1, 1), (2, 1, 1), (1, 2, 1),\n",
       "                                     (1, 1, 2)]},\n",
       "             scoring='accuracy')"
      ]
     },
     "execution_count": 112,
     "metadata": {},
     "output_type": "execute_result"
    }
   ],
   "source": [
    "vc_search.fit(X_tran, y_tran)"
   ]
  },
  {
   "cell_type": "code",
   "execution_count": 113,
   "id": "66529a9f-233d-48e7-a56a-d6a04a378415",
   "metadata": {},
   "outputs": [
    {
     "data": {
      "text/plain": [
       "0.9449"
      ]
     },
     "execution_count": 113,
     "metadata": {},
     "output_type": "execute_result"
    }
   ],
   "source": [
    "vc_search.best_score_"
   ]
  },
  {
   "cell_type": "code",
   "execution_count": 114,
   "id": "094001c9-d2b0-4725-a1ca-145c9b18e60f",
   "metadata": {},
   "outputs": [
    {
     "data": {
      "text/plain": [
       "{'voting': 'soft', 'weights': (1, 2, 1)}"
      ]
     },
     "execution_count": 114,
     "metadata": {},
     "output_type": "execute_result"
    }
   ],
   "source": [
    "vc_search.best_params_"
   ]
  },
  {
   "cell_type": "code",
   "execution_count": 115,
   "id": "31b01df5-6418-4acc-af81-7485496c3ffb",
   "metadata": {},
   "outputs": [],
   "source": [
    "vc_pipeline = make_pipeline(ct, vc)"
   ]
  },
  {
   "cell_type": "code",
   "execution_count": 116,
   "id": "1340a068-1428-4843-a9bb-3cd7768594d4",
   "metadata": {},
   "outputs": [
    {
     "data": {
      "text/html": [
       "<style>#sk-container-id-4 {color: black;background-color: white;}#sk-container-id-4 pre{padding: 0;}#sk-container-id-4 div.sk-toggleable {background-color: white;}#sk-container-id-4 label.sk-toggleable__label {cursor: pointer;display: block;width: 100%;margin-bottom: 0;padding: 0.3em;box-sizing: border-box;text-align: center;}#sk-container-id-4 label.sk-toggleable__label-arrow:before {content: \"▸\";float: left;margin-right: 0.25em;color: #696969;}#sk-container-id-4 label.sk-toggleable__label-arrow:hover:before {color: black;}#sk-container-id-4 div.sk-estimator:hover label.sk-toggleable__label-arrow:before {color: black;}#sk-container-id-4 div.sk-toggleable__content {max-height: 0;max-width: 0;overflow: hidden;text-align: left;background-color: #f0f8ff;}#sk-container-id-4 div.sk-toggleable__content pre {margin: 0.2em;color: black;border-radius: 0.25em;background-color: #f0f8ff;}#sk-container-id-4 input.sk-toggleable__control:checked~div.sk-toggleable__content {max-height: 200px;max-width: 100%;overflow: auto;}#sk-container-id-4 input.sk-toggleable__control:checked~label.sk-toggleable__label-arrow:before {content: \"▾\";}#sk-container-id-4 div.sk-estimator input.sk-toggleable__control:checked~label.sk-toggleable__label {background-color: #d4ebff;}#sk-container-id-4 div.sk-label input.sk-toggleable__control:checked~label.sk-toggleable__label {background-color: #d4ebff;}#sk-container-id-4 input.sk-hidden--visually {border: 0;clip: rect(1px 1px 1px 1px);clip: rect(1px, 1px, 1px, 1px);height: 1px;margin: -1px;overflow: hidden;padding: 0;position: absolute;width: 1px;}#sk-container-id-4 div.sk-estimator {font-family: monospace;background-color: #f0f8ff;border: 1px dotted black;border-radius: 0.25em;box-sizing: border-box;margin-bottom: 0.5em;}#sk-container-id-4 div.sk-estimator:hover {background-color: #d4ebff;}#sk-container-id-4 div.sk-parallel-item::after {content: \"\";width: 100%;border-bottom: 1px solid gray;flex-grow: 1;}#sk-container-id-4 div.sk-label:hover label.sk-toggleable__label {background-color: #d4ebff;}#sk-container-id-4 div.sk-serial::before {content: \"\";position: absolute;border-left: 1px solid gray;box-sizing: border-box;top: 0;bottom: 0;left: 50%;z-index: 0;}#sk-container-id-4 div.sk-serial {display: flex;flex-direction: column;align-items: center;background-color: white;padding-right: 0.2em;padding-left: 0.2em;position: relative;}#sk-container-id-4 div.sk-item {position: relative;z-index: 1;}#sk-container-id-4 div.sk-parallel {display: flex;align-items: stretch;justify-content: center;background-color: white;position: relative;}#sk-container-id-4 div.sk-item::before, #sk-container-id-4 div.sk-parallel-item::before {content: \"\";position: absolute;border-left: 1px solid gray;box-sizing: border-box;top: 0;bottom: 0;left: 50%;z-index: -1;}#sk-container-id-4 div.sk-parallel-item {display: flex;flex-direction: column;z-index: 1;position: relative;background-color: white;}#sk-container-id-4 div.sk-parallel-item:first-child::after {align-self: flex-end;width: 50%;}#sk-container-id-4 div.sk-parallel-item:last-child::after {align-self: flex-start;width: 50%;}#sk-container-id-4 div.sk-parallel-item:only-child::after {width: 0;}#sk-container-id-4 div.sk-dashed-wrapped {border: 1px dashed gray;margin: 0 0.4em 0.5em 0.4em;box-sizing: border-box;padding-bottom: 0.4em;background-color: white;}#sk-container-id-4 div.sk-label label {font-family: monospace;font-weight: bold;display: inline-block;line-height: 1.2em;}#sk-container-id-4 div.sk-label-container {text-align: center;}#sk-container-id-4 div.sk-container {/* jupyter's `normalize.less` sets `[hidden] { display: none; }` but bootstrap.min.css set `[hidden] { display: none !important; }` so we also need the `!important` here to be able to override the default hidden behavior on the sphinx rendered scikit-learn.org. See: https://github.com/scikit-learn/scikit-learn/issues/21755 */display: inline-block !important;position: relative;}#sk-container-id-4 div.sk-text-repr-fallback {display: none;}</style><div id=\"sk-container-id-4\" class=\"sk-top-container\"><div class=\"sk-text-repr-fallback\"><pre>Pipeline(steps=[(&#x27;columntransformer&#x27;,\n",
       "                 ColumnTransformer(n_jobs=-1,\n",
       "                                   transformers=[(&#x27;num_pipeline&#x27;,\n",
       "                                                  Pipeline(steps=[(&#x27;impute&#x27;,\n",
       "                                                                   SimpleImputer(strategy=&#x27;median&#x27;)),\n",
       "                                                                  (&#x27;scale&#x27;,\n",
       "                                                                   StandardScaler())]),\n",
       "                                                  [&#x27;PhysicalHealthDays&#x27;,\n",
       "                                                   &#x27;MentalHealthDays&#x27;,\n",
       "                                                   &#x27;SleepHours&#x27;,\n",
       "                                                   &#x27;HeightInMeters&#x27;,\n",
       "                                                   &#x27;WeightInKilograms&#x27;,\n",
       "                                                   &#x27;BMI&#x27;]),\n",
       "                                                 (&#x27;nom_pipeline&#x27;,\n",
       "                                                  Pipeline(steps=[(&#x27;impute&#x27;,\n",
       "                                                                   SimpleImputer(strategy=&#x27;m...\n",
       "                                                                                               &#x27;but &#x27;\n",
       "                                                                                               &#x27;only &#x27;\n",
       "                                                                                               &#x27;during &#x27;\n",
       "                                                                                               &#x27;pregnancy &#x27;\n",
       "                                                                                               &#x27;(female)&#x27;,\n",
       "                                                                                               &#x27;Yes&#x27;]])),\n",
       "                                                                  (&#x27;scale&#x27;,\n",
       "                                                                   StandardScaler())]),\n",
       "                                                  [&#x27;HadDiabetes&#x27;])])),\n",
       "                (&#x27;votingclassifier&#x27;,\n",
       "                 VotingClassifier(estimators=[(&#x27;RandomForest&#x27;,\n",
       "                                               RandomForestClassifier(max_depth=5,\n",
       "                                                                      max_leaf_nodes=25,\n",
       "                                                                      n_estimators=25)),\n",
       "                                              (&#x27;LogisticRegression&#x27;,\n",
       "                                               LogisticRegression(max_iter=500)),\n",
       "                                              (&#x27;KNN&#x27;,\n",
       "                                               KNeighborsClassifier(leaf_size=5,\n",
       "                                                                    n_neighbors=6))]))])</pre><b>In a Jupyter environment, please rerun this cell to show the HTML representation or trust the notebook. <br />On GitHub, the HTML representation is unable to render, please try loading this page with nbviewer.org.</b></div><div class=\"sk-container\" hidden><div class=\"sk-item sk-dashed-wrapped\"><div class=\"sk-label-container\"><div class=\"sk-label sk-toggleable\"><input class=\"sk-toggleable__control sk-hidden--visually\" id=\"sk-estimator-id-12\" type=\"checkbox\" ><label for=\"sk-estimator-id-12\" class=\"sk-toggleable__label sk-toggleable__label-arrow\">Pipeline</label><div class=\"sk-toggleable__content\"><pre>Pipeline(steps=[(&#x27;columntransformer&#x27;,\n",
       "                 ColumnTransformer(n_jobs=-1,\n",
       "                                   transformers=[(&#x27;num_pipeline&#x27;,\n",
       "                                                  Pipeline(steps=[(&#x27;impute&#x27;,\n",
       "                                                                   SimpleImputer(strategy=&#x27;median&#x27;)),\n",
       "                                                                  (&#x27;scale&#x27;,\n",
       "                                                                   StandardScaler())]),\n",
       "                                                  [&#x27;PhysicalHealthDays&#x27;,\n",
       "                                                   &#x27;MentalHealthDays&#x27;,\n",
       "                                                   &#x27;SleepHours&#x27;,\n",
       "                                                   &#x27;HeightInMeters&#x27;,\n",
       "                                                   &#x27;WeightInKilograms&#x27;,\n",
       "                                                   &#x27;BMI&#x27;]),\n",
       "                                                 (&#x27;nom_pipeline&#x27;,\n",
       "                                                  Pipeline(steps=[(&#x27;impute&#x27;,\n",
       "                                                                   SimpleImputer(strategy=&#x27;m...\n",
       "                                                                                               &#x27;but &#x27;\n",
       "                                                                                               &#x27;only &#x27;\n",
       "                                                                                               &#x27;during &#x27;\n",
       "                                                                                               &#x27;pregnancy &#x27;\n",
       "                                                                                               &#x27;(female)&#x27;,\n",
       "                                                                                               &#x27;Yes&#x27;]])),\n",
       "                                                                  (&#x27;scale&#x27;,\n",
       "                                                                   StandardScaler())]),\n",
       "                                                  [&#x27;HadDiabetes&#x27;])])),\n",
       "                (&#x27;votingclassifier&#x27;,\n",
       "                 VotingClassifier(estimators=[(&#x27;RandomForest&#x27;,\n",
       "                                               RandomForestClassifier(max_depth=5,\n",
       "                                                                      max_leaf_nodes=25,\n",
       "                                                                      n_estimators=25)),\n",
       "                                              (&#x27;LogisticRegression&#x27;,\n",
       "                                               LogisticRegression(max_iter=500)),\n",
       "                                              (&#x27;KNN&#x27;,\n",
       "                                               KNeighborsClassifier(leaf_size=5,\n",
       "                                                                    n_neighbors=6))]))])</pre></div></div></div><div class=\"sk-serial\"><div class=\"sk-item sk-dashed-wrapped\"><div class=\"sk-label-container\"><div class=\"sk-label sk-toggleable\"><input class=\"sk-toggleable__control sk-hidden--visually\" id=\"sk-estimator-id-13\" type=\"checkbox\" ><label for=\"sk-estimator-id-13\" class=\"sk-toggleable__label sk-toggleable__label-arrow\">columntransformer: ColumnTransformer</label><div class=\"sk-toggleable__content\"><pre>ColumnTransformer(n_jobs=-1,\n",
       "                  transformers=[(&#x27;num_pipeline&#x27;,\n",
       "                                 Pipeline(steps=[(&#x27;impute&#x27;,\n",
       "                                                  SimpleImputer(strategy=&#x27;median&#x27;)),\n",
       "                                                 (&#x27;scale&#x27;, StandardScaler())]),\n",
       "                                 [&#x27;PhysicalHealthDays&#x27;, &#x27;MentalHealthDays&#x27;,\n",
       "                                  &#x27;SleepHours&#x27;, &#x27;HeightInMeters&#x27;,\n",
       "                                  &#x27;WeightInKilograms&#x27;, &#x27;BMI&#x27;]),\n",
       "                                (&#x27;nom_pipeline&#x27;,\n",
       "                                 Pipeline(steps=[(&#x27;impute&#x27;,\n",
       "                                                  SimpleImputer(strategy=&#x27;most_frequent&#x27;)),\n",
       "                                                 (&#x27;OneHotEncoder&#x27;,\n",
       "                                                  OneH...\n",
       "                                                                              &#x27;health &#x27;\n",
       "                                                                              &#x27;professional&#x27;,\n",
       "                                                                              &#x27;Yes&#x27;]])),\n",
       "                                                 (&#x27;scale&#x27;, StandardScaler())]),\n",
       "                                 [&#x27;CovidPos&#x27;]),\n",
       "                                (&#x27;diabetes_pipeline&#x27;,\n",
       "                                 Pipeline(steps=[(&#x27;impute&#x27;,\n",
       "                                                  SimpleImputer(strategy=&#x27;most_frequent&#x27;)),\n",
       "                                                 (&#x27;encode&#x27;,\n",
       "                                                  OrdinalEncoder(categories=[[&#x27;No&#x27;,\n",
       "                                                                              &#x27;No, &#x27;\n",
       "                                                                              &#x27;pre-diabetes &#x27;\n",
       "                                                                              &#x27;or &#x27;\n",
       "                                                                              &#x27;borderline &#x27;\n",
       "                                                                              &#x27;diabetes&#x27;,\n",
       "                                                                              &#x27;Yes, &#x27;\n",
       "                                                                              &#x27;but &#x27;\n",
       "                                                                              &#x27;only &#x27;\n",
       "                                                                              &#x27;during &#x27;\n",
       "                                                                              &#x27;pregnancy &#x27;\n",
       "                                                                              &#x27;(female)&#x27;,\n",
       "                                                                              &#x27;Yes&#x27;]])),\n",
       "                                                 (&#x27;scale&#x27;, StandardScaler())]),\n",
       "                                 [&#x27;HadDiabetes&#x27;])])</pre></div></div></div><div class=\"sk-parallel\"><div class=\"sk-parallel-item\"><div class=\"sk-item\"><div class=\"sk-label-container\"><div class=\"sk-label sk-toggleable\"><input class=\"sk-toggleable__control sk-hidden--visually\" id=\"sk-estimator-id-14\" type=\"checkbox\" ><label for=\"sk-estimator-id-14\" class=\"sk-toggleable__label sk-toggleable__label-arrow\">num_pipeline</label><div class=\"sk-toggleable__content\"><pre>[&#x27;PhysicalHealthDays&#x27;, &#x27;MentalHealthDays&#x27;, &#x27;SleepHours&#x27;, &#x27;HeightInMeters&#x27;, &#x27;WeightInKilograms&#x27;, &#x27;BMI&#x27;]</pre></div></div></div><div class=\"sk-serial\"><div class=\"sk-item\"><div class=\"sk-serial\"><div class=\"sk-item\"><div class=\"sk-estimator sk-toggleable\"><input class=\"sk-toggleable__control sk-hidden--visually\" id=\"sk-estimator-id-15\" type=\"checkbox\" ><label for=\"sk-estimator-id-15\" class=\"sk-toggleable__label sk-toggleable__label-arrow\">SimpleImputer</label><div class=\"sk-toggleable__content\"><pre>SimpleImputer(strategy=&#x27;median&#x27;)</pre></div></div></div><div class=\"sk-item\"><div class=\"sk-estimator sk-toggleable\"><input class=\"sk-toggleable__control sk-hidden--visually\" id=\"sk-estimator-id-16\" type=\"checkbox\" ><label for=\"sk-estimator-id-16\" class=\"sk-toggleable__label sk-toggleable__label-arrow\">StandardScaler</label><div class=\"sk-toggleable__content\"><pre>StandardScaler()</pre></div></div></div></div></div></div></div></div><div class=\"sk-parallel-item\"><div class=\"sk-item\"><div class=\"sk-label-container\"><div class=\"sk-label sk-toggleable\"><input class=\"sk-toggleable__control sk-hidden--visually\" id=\"sk-estimator-id-17\" type=\"checkbox\" ><label for=\"sk-estimator-id-17\" class=\"sk-toggleable__label sk-toggleable__label-arrow\">nom_pipeline</label><div class=\"sk-toggleable__content\"><pre>[&#x27;State&#x27;, &#x27;Sex&#x27;, &#x27;PhysicalActivities&#x27;, &#x27;HadAngina&#x27;, &#x27;HadStroke&#x27;, &#x27;HadAsthma&#x27;, &#x27;HadSkinCancer&#x27;, &#x27;HadCOPD&#x27;, &#x27;HadDepressiveDisorder&#x27;, &#x27;HadKidneyDisease&#x27;, &#x27;HadArthritis&#x27;, &#x27;DeafOrHardOfHearing&#x27;, &#x27;BlindOrVisionDifficulty&#x27;, &#x27;DifficultyConcentrating&#x27;, &#x27;DifficultyWalking&#x27;, &#x27;DifficultyDressingBathing&#x27;, &#x27;DifficultyErrands&#x27;, &#x27;ChestScan&#x27;, &#x27;RaceEthnicityCategory&#x27;, &#x27;AlcoholDrinkers&#x27;, &#x27;HIVTesting&#x27;, &#x27;FluVaxLast12&#x27;, &#x27;PneumoVaxEver&#x27;, &#x27;TetanusLast10Tdap&#x27;, &#x27;HighRiskLastYear&#x27;]</pre></div></div></div><div class=\"sk-serial\"><div class=\"sk-item\"><div class=\"sk-serial\"><div class=\"sk-item\"><div class=\"sk-estimator sk-toggleable\"><input class=\"sk-toggleable__control sk-hidden--visually\" id=\"sk-estimator-id-18\" type=\"checkbox\" ><label for=\"sk-estimator-id-18\" class=\"sk-toggleable__label sk-toggleable__label-arrow\">SimpleImputer</label><div class=\"sk-toggleable__content\"><pre>SimpleImputer(strategy=&#x27;most_frequent&#x27;)</pre></div></div></div><div class=\"sk-item\"><div class=\"sk-estimator sk-toggleable\"><input class=\"sk-toggleable__control sk-hidden--visually\" id=\"sk-estimator-id-19\" type=\"checkbox\" ><label for=\"sk-estimator-id-19\" class=\"sk-toggleable__label sk-toggleable__label-arrow\">OneHotEncoder</label><div class=\"sk-toggleable__content\"><pre>OneHotEncoder(handle_unknown=&#x27;ignore&#x27;, sparse_output=False)</pre></div></div></div></div></div></div></div></div><div class=\"sk-parallel-item\"><div class=\"sk-item\"><div class=\"sk-label-container\"><div class=\"sk-label sk-toggleable\"><input class=\"sk-toggleable__control sk-hidden--visually\" id=\"sk-estimator-id-20\" type=\"checkbox\" ><label for=\"sk-estimator-id-20\" class=\"sk-toggleable__label sk-toggleable__label-arrow\">teeth_pipeline</label><div class=\"sk-toggleable__content\"><pre>[&#x27;RemovedTeeth&#x27;]</pre></div></div></div><div class=\"sk-serial\"><div class=\"sk-item\"><div class=\"sk-serial\"><div class=\"sk-item\"><div class=\"sk-estimator sk-toggleable\"><input class=\"sk-toggleable__control sk-hidden--visually\" id=\"sk-estimator-id-21\" type=\"checkbox\" ><label for=\"sk-estimator-id-21\" class=\"sk-toggleable__label sk-toggleable__label-arrow\">SimpleImputer</label><div class=\"sk-toggleable__content\"><pre>SimpleImputer(strategy=&#x27;most_frequent&#x27;)</pre></div></div></div><div class=\"sk-item\"><div class=\"sk-estimator sk-toggleable\"><input class=\"sk-toggleable__control sk-hidden--visually\" id=\"sk-estimator-id-22\" type=\"checkbox\" ><label for=\"sk-estimator-id-22\" class=\"sk-toggleable__label sk-toggleable__label-arrow\">OrdinalEncoder</label><div class=\"sk-toggleable__content\"><pre>OrdinalEncoder(categories=[[&#x27;None of them&#x27;, &#x27;1 to 5&#x27;, &#x27;6 or more, but not all&#x27;,\n",
       "                            &#x27;All&#x27;]])</pre></div></div></div><div class=\"sk-item\"><div class=\"sk-estimator sk-toggleable\"><input class=\"sk-toggleable__control sk-hidden--visually\" id=\"sk-estimator-id-23\" type=\"checkbox\" ><label for=\"sk-estimator-id-23\" class=\"sk-toggleable__label sk-toggleable__label-arrow\">StandardScaler</label><div class=\"sk-toggleable__content\"><pre>StandardScaler()</pre></div></div></div></div></div></div></div></div><div class=\"sk-parallel-item\"><div class=\"sk-item\"><div class=\"sk-label-container\"><div class=\"sk-label sk-toggleable\"><input class=\"sk-toggleable__control sk-hidden--visually\" id=\"sk-estimator-id-24\" type=\"checkbox\" ><label for=\"sk-estimator-id-24\" class=\"sk-toggleable__label sk-toggleable__label-arrow\">age_pipeline</label><div class=\"sk-toggleable__content\"><pre>[&#x27;AgeCategory&#x27;]</pre></div></div></div><div class=\"sk-serial\"><div class=\"sk-item\"><div class=\"sk-serial\"><div class=\"sk-item\"><div class=\"sk-estimator sk-toggleable\"><input class=\"sk-toggleable__control sk-hidden--visually\" id=\"sk-estimator-id-25\" type=\"checkbox\" ><label for=\"sk-estimator-id-25\" class=\"sk-toggleable__label sk-toggleable__label-arrow\">SimpleImputer</label><div class=\"sk-toggleable__content\"><pre>SimpleImputer(strategy=&#x27;most_frequent&#x27;)</pre></div></div></div><div class=\"sk-item\"><div class=\"sk-estimator sk-toggleable\"><input class=\"sk-toggleable__control sk-hidden--visually\" id=\"sk-estimator-id-26\" type=\"checkbox\" ><label for=\"sk-estimator-id-26\" class=\"sk-toggleable__label sk-toggleable__label-arrow\">OrdinalEncoder</label><div class=\"sk-toggleable__content\"><pre>OrdinalEncoder(categories=[[&#x27;Age 18 to 24&#x27;, &#x27;Age 25 to 29&#x27;, &#x27;Age 30 to 34&#x27;,\n",
       "                            &#x27;Age 35 to 39&#x27;, &#x27;Age 40 to 44&#x27;, &#x27;Age 45 to 49&#x27;,\n",
       "                            &#x27;Age 50 to 54&#x27;, &#x27;Age 55 to 59&#x27;, &#x27;Age 60 to 64&#x27;,\n",
       "                            &#x27;Age 65 to 69&#x27;, &#x27;Age 70 to 74&#x27;, &#x27;Age 75 to 79&#x27;,\n",
       "                            &#x27;Age 80 or older&#x27;]])</pre></div></div></div><div class=\"sk-item\"><div class=\"sk-estimator sk-toggleable\"><input class=\"sk-toggleable__control sk-hidden--visually\" id=\"sk-estimator-id-27\" type=\"checkbox\" ><label for=\"sk-estimator-id-27\" class=\"sk-toggleable__label sk-toggleable__label-arrow\">StandardScaler</label><div class=\"sk-toggleable__content\"><pre>StandardScaler()</pre></div></div></div></div></div></div></div></div><div class=\"sk-parallel-item\"><div class=\"sk-item\"><div class=\"sk-label-container\"><div class=\"sk-label sk-toggleable\"><input class=\"sk-toggleable__control sk-hidden--visually\" id=\"sk-estimator-id-28\" type=\"checkbox\" ><label for=\"sk-estimator-id-28\" class=\"sk-toggleable__label sk-toggleable__label-arrow\">last_checkup_pipeline</label><div class=\"sk-toggleable__content\"><pre>[&#x27;LastCheckupTime&#x27;]</pre></div></div></div><div class=\"sk-serial\"><div class=\"sk-item\"><div class=\"sk-serial\"><div class=\"sk-item\"><div class=\"sk-estimator sk-toggleable\"><input class=\"sk-toggleable__control sk-hidden--visually\" id=\"sk-estimator-id-29\" type=\"checkbox\" ><label for=\"sk-estimator-id-29\" class=\"sk-toggleable__label sk-toggleable__label-arrow\">SimpleImputer</label><div class=\"sk-toggleable__content\"><pre>SimpleImputer(strategy=&#x27;most_frequent&#x27;)</pre></div></div></div><div class=\"sk-item\"><div class=\"sk-estimator sk-toggleable\"><input class=\"sk-toggleable__control sk-hidden--visually\" id=\"sk-estimator-id-30\" type=\"checkbox\" ><label for=\"sk-estimator-id-30\" class=\"sk-toggleable__label sk-toggleable__label-arrow\">OrdinalEncoder</label><div class=\"sk-toggleable__content\"><pre>OrdinalEncoder(categories=[[&#x27;Within past year (anytime less than 12 months &#x27;\n",
       "                            &#x27;ago)&#x27;,\n",
       "                            &#x27;Within past 2 years (1 year but less than 2 years &#x27;\n",
       "                            &#x27;ago)&#x27;,\n",
       "                            &#x27;Within past 5 years (2 years but less than 5 &#x27;\n",
       "                            &#x27;years ago)&#x27;,\n",
       "                            &#x27;5 or more years ago&#x27;]])</pre></div></div></div><div class=\"sk-item\"><div class=\"sk-estimator sk-toggleable\"><input class=\"sk-toggleable__control sk-hidden--visually\" id=\"sk-estimator-id-31\" type=\"checkbox\" ><label for=\"sk-estimator-id-31\" class=\"sk-toggleable__label sk-toggleable__label-arrow\">StandardScaler</label><div class=\"sk-toggleable__content\"><pre>StandardScaler()</pre></div></div></div></div></div></div></div></div><div class=\"sk-parallel-item\"><div class=\"sk-item\"><div class=\"sk-label-container\"><div class=\"sk-label sk-toggleable\"><input class=\"sk-toggleable__control sk-hidden--visually\" id=\"sk-estimator-id-32\" type=\"checkbox\" ><label for=\"sk-estimator-id-32\" class=\"sk-toggleable__label sk-toggleable__label-arrow\">health_pipeline</label><div class=\"sk-toggleable__content\"><pre>[&#x27;GeneralHealth&#x27;]</pre></div></div></div><div class=\"sk-serial\"><div class=\"sk-item\"><div class=\"sk-serial\"><div class=\"sk-item\"><div class=\"sk-estimator sk-toggleable\"><input class=\"sk-toggleable__control sk-hidden--visually\" id=\"sk-estimator-id-33\" type=\"checkbox\" ><label for=\"sk-estimator-id-33\" class=\"sk-toggleable__label sk-toggleable__label-arrow\">SimpleImputer</label><div class=\"sk-toggleable__content\"><pre>SimpleImputer(strategy=&#x27;most_frequent&#x27;)</pre></div></div></div><div class=\"sk-item\"><div class=\"sk-estimator sk-toggleable\"><input class=\"sk-toggleable__control sk-hidden--visually\" id=\"sk-estimator-id-34\" type=\"checkbox\" ><label for=\"sk-estimator-id-34\" class=\"sk-toggleable__label sk-toggleable__label-arrow\">OrdinalEncoder</label><div class=\"sk-toggleable__content\"><pre>OrdinalEncoder(categories=[[&#x27;Poor&#x27;, &#x27;Fair&#x27;, &#x27;Good&#x27;, &#x27;Very good&#x27;, &#x27;Excellent&#x27;]])</pre></div></div></div><div class=\"sk-item\"><div class=\"sk-estimator sk-toggleable\"><input class=\"sk-toggleable__control sk-hidden--visually\" id=\"sk-estimator-id-35\" type=\"checkbox\" ><label for=\"sk-estimator-id-35\" class=\"sk-toggleable__label sk-toggleable__label-arrow\">StandardScaler</label><div class=\"sk-toggleable__content\"><pre>StandardScaler()</pre></div></div></div></div></div></div></div></div><div class=\"sk-parallel-item\"><div class=\"sk-item\"><div class=\"sk-label-container\"><div class=\"sk-label sk-toggleable\"><input class=\"sk-toggleable__control sk-hidden--visually\" id=\"sk-estimator-id-36\" type=\"checkbox\" ><label for=\"sk-estimator-id-36\" class=\"sk-toggleable__label sk-toggleable__label-arrow\">smoker_pipeline</label><div class=\"sk-toggleable__content\"><pre>[&#x27;SmokerStatus&#x27;]</pre></div></div></div><div class=\"sk-serial\"><div class=\"sk-item\"><div class=\"sk-serial\"><div class=\"sk-item\"><div class=\"sk-estimator sk-toggleable\"><input class=\"sk-toggleable__control sk-hidden--visually\" id=\"sk-estimator-id-37\" type=\"checkbox\" ><label for=\"sk-estimator-id-37\" class=\"sk-toggleable__label sk-toggleable__label-arrow\">SimpleImputer</label><div class=\"sk-toggleable__content\"><pre>SimpleImputer(strategy=&#x27;most_frequent&#x27;)</pre></div></div></div><div class=\"sk-item\"><div class=\"sk-estimator sk-toggleable\"><input class=\"sk-toggleable__control sk-hidden--visually\" id=\"sk-estimator-id-38\" type=\"checkbox\" ><label for=\"sk-estimator-id-38\" class=\"sk-toggleable__label sk-toggleable__label-arrow\">OrdinalEncoder</label><div class=\"sk-toggleable__content\"><pre>OrdinalEncoder(categories=[[&#x27;Never smoked&#x27;, &#x27;Former smoker&#x27;,\n",
       "                            &#x27;Current smoker - now smokes some days&#x27;,\n",
       "                            &#x27;Current smoker - now smokes every day&#x27;]])</pre></div></div></div><div class=\"sk-item\"><div class=\"sk-estimator sk-toggleable\"><input class=\"sk-toggleable__control sk-hidden--visually\" id=\"sk-estimator-id-39\" type=\"checkbox\" ><label for=\"sk-estimator-id-39\" class=\"sk-toggleable__label sk-toggleable__label-arrow\">StandardScaler</label><div class=\"sk-toggleable__content\"><pre>StandardScaler()</pre></div></div></div></div></div></div></div></div><div class=\"sk-parallel-item\"><div class=\"sk-item\"><div class=\"sk-label-container\"><div class=\"sk-label sk-toggleable\"><input class=\"sk-toggleable__control sk-hidden--visually\" id=\"sk-estimator-id-40\" type=\"checkbox\" ><label for=\"sk-estimator-id-40\" class=\"sk-toggleable__label sk-toggleable__label-arrow\">ecig_pipeline</label><div class=\"sk-toggleable__content\"><pre>[&#x27;ECigaretteUsage&#x27;]</pre></div></div></div><div class=\"sk-serial\"><div class=\"sk-item\"><div class=\"sk-serial\"><div class=\"sk-item\"><div class=\"sk-estimator sk-toggleable\"><input class=\"sk-toggleable__control sk-hidden--visually\" id=\"sk-estimator-id-41\" type=\"checkbox\" ><label for=\"sk-estimator-id-41\" class=\"sk-toggleable__label sk-toggleable__label-arrow\">SimpleImputer</label><div class=\"sk-toggleable__content\"><pre>SimpleImputer(strategy=&#x27;most_frequent&#x27;)</pre></div></div></div><div class=\"sk-item\"><div class=\"sk-estimator sk-toggleable\"><input class=\"sk-toggleable__control sk-hidden--visually\" id=\"sk-estimator-id-42\" type=\"checkbox\" ><label for=\"sk-estimator-id-42\" class=\"sk-toggleable__label sk-toggleable__label-arrow\">OrdinalEncoder</label><div class=\"sk-toggleable__content\"><pre>OrdinalEncoder(categories=[[&#x27;Never used e-cigarettes in my entire life&#x27;,\n",
       "                            &#x27;Not at all (right now)&#x27;, &#x27;Use them some days&#x27;,\n",
       "                            &#x27;Use them every day&#x27;]])</pre></div></div></div><div class=\"sk-item\"><div class=\"sk-estimator sk-toggleable\"><input class=\"sk-toggleable__control sk-hidden--visually\" id=\"sk-estimator-id-43\" type=\"checkbox\" ><label for=\"sk-estimator-id-43\" class=\"sk-toggleable__label sk-toggleable__label-arrow\">StandardScaler</label><div class=\"sk-toggleable__content\"><pre>StandardScaler()</pre></div></div></div></div></div></div></div></div><div class=\"sk-parallel-item\"><div class=\"sk-item\"><div class=\"sk-label-container\"><div class=\"sk-label sk-toggleable\"><input class=\"sk-toggleable__control sk-hidden--visually\" id=\"sk-estimator-id-44\" type=\"checkbox\" ><label for=\"sk-estimator-id-44\" class=\"sk-toggleable__label sk-toggleable__label-arrow\">covid_pipeline</label><div class=\"sk-toggleable__content\"><pre>[&#x27;CovidPos&#x27;]</pre></div></div></div><div class=\"sk-serial\"><div class=\"sk-item\"><div class=\"sk-serial\"><div class=\"sk-item\"><div class=\"sk-estimator sk-toggleable\"><input class=\"sk-toggleable__control sk-hidden--visually\" id=\"sk-estimator-id-45\" type=\"checkbox\" ><label for=\"sk-estimator-id-45\" class=\"sk-toggleable__label sk-toggleable__label-arrow\">SimpleImputer</label><div class=\"sk-toggleable__content\"><pre>SimpleImputer(strategy=&#x27;most_frequent&#x27;)</pre></div></div></div><div class=\"sk-item\"><div class=\"sk-estimator sk-toggleable\"><input class=\"sk-toggleable__control sk-hidden--visually\" id=\"sk-estimator-id-46\" type=\"checkbox\" ><label for=\"sk-estimator-id-46\" class=\"sk-toggleable__label sk-toggleable__label-arrow\">OrdinalEncoder</label><div class=\"sk-toggleable__content\"><pre>OrdinalEncoder(categories=[[&#x27;No&#x27;,\n",
       "                            &#x27;Tested positive using home test without a health &#x27;\n",
       "                            &#x27;professional&#x27;,\n",
       "                            &#x27;Yes&#x27;]])</pre></div></div></div><div class=\"sk-item\"><div class=\"sk-estimator sk-toggleable\"><input class=\"sk-toggleable__control sk-hidden--visually\" id=\"sk-estimator-id-47\" type=\"checkbox\" ><label for=\"sk-estimator-id-47\" class=\"sk-toggleable__label sk-toggleable__label-arrow\">StandardScaler</label><div class=\"sk-toggleable__content\"><pre>StandardScaler()</pre></div></div></div></div></div></div></div></div><div class=\"sk-parallel-item\"><div class=\"sk-item\"><div class=\"sk-label-container\"><div class=\"sk-label sk-toggleable\"><input class=\"sk-toggleable__control sk-hidden--visually\" id=\"sk-estimator-id-48\" type=\"checkbox\" ><label for=\"sk-estimator-id-48\" class=\"sk-toggleable__label sk-toggleable__label-arrow\">diabetes_pipeline</label><div class=\"sk-toggleable__content\"><pre>[&#x27;HadDiabetes&#x27;]</pre></div></div></div><div class=\"sk-serial\"><div class=\"sk-item\"><div class=\"sk-serial\"><div class=\"sk-item\"><div class=\"sk-estimator sk-toggleable\"><input class=\"sk-toggleable__control sk-hidden--visually\" id=\"sk-estimator-id-49\" type=\"checkbox\" ><label for=\"sk-estimator-id-49\" class=\"sk-toggleable__label sk-toggleable__label-arrow\">SimpleImputer</label><div class=\"sk-toggleable__content\"><pre>SimpleImputer(strategy=&#x27;most_frequent&#x27;)</pre></div></div></div><div class=\"sk-item\"><div class=\"sk-estimator sk-toggleable\"><input class=\"sk-toggleable__control sk-hidden--visually\" id=\"sk-estimator-id-50\" type=\"checkbox\" ><label for=\"sk-estimator-id-50\" class=\"sk-toggleable__label sk-toggleable__label-arrow\">OrdinalEncoder</label><div class=\"sk-toggleable__content\"><pre>OrdinalEncoder(categories=[[&#x27;No&#x27;, &#x27;No, pre-diabetes or borderline diabetes&#x27;,\n",
       "                            &#x27;Yes, but only during pregnancy (female)&#x27;, &#x27;Yes&#x27;]])</pre></div></div></div><div class=\"sk-item\"><div class=\"sk-estimator sk-toggleable\"><input class=\"sk-toggleable__control sk-hidden--visually\" id=\"sk-estimator-id-51\" type=\"checkbox\" ><label for=\"sk-estimator-id-51\" class=\"sk-toggleable__label sk-toggleable__label-arrow\">StandardScaler</label><div class=\"sk-toggleable__content\"><pre>StandardScaler()</pre></div></div></div></div></div></div></div></div></div></div><div class=\"sk-item sk-dashed-wrapped\"><div class=\"sk-label-container\"><div class=\"sk-label sk-toggleable\"><input class=\"sk-toggleable__control sk-hidden--visually\" id=\"sk-estimator-id-52\" type=\"checkbox\" ><label for=\"sk-estimator-id-52\" class=\"sk-toggleable__label sk-toggleable__label-arrow\">votingclassifier: VotingClassifier</label><div class=\"sk-toggleable__content\"><pre>VotingClassifier(estimators=[(&#x27;RandomForest&#x27;,\n",
       "                              RandomForestClassifier(max_depth=5,\n",
       "                                                     max_leaf_nodes=25,\n",
       "                                                     n_estimators=25)),\n",
       "                             (&#x27;LogisticRegression&#x27;,\n",
       "                              LogisticRegression(max_iter=500)),\n",
       "                             (&#x27;KNN&#x27;,\n",
       "                              KNeighborsClassifier(leaf_size=5,\n",
       "                                                   n_neighbors=6))])</pre></div></div></div><div class=\"sk-parallel\"><div class=\"sk-parallel-item\"><div class=\"sk-item\"><div class=\"sk-label-container\"><div class=\"sk-label sk-toggleable\"><label>RandomForest</label></div></div><div class=\"sk-serial\"><div class=\"sk-item\"><div class=\"sk-estimator sk-toggleable\"><input class=\"sk-toggleable__control sk-hidden--visually\" id=\"sk-estimator-id-53\" type=\"checkbox\" ><label for=\"sk-estimator-id-53\" class=\"sk-toggleable__label sk-toggleable__label-arrow\">RandomForestClassifier</label><div class=\"sk-toggleable__content\"><pre>RandomForestClassifier(max_depth=5, max_leaf_nodes=25, n_estimators=25)</pre></div></div></div></div></div></div><div class=\"sk-parallel-item\"><div class=\"sk-item\"><div class=\"sk-label-container\"><div class=\"sk-label sk-toggleable\"><label>LogisticRegression</label></div></div><div class=\"sk-serial\"><div class=\"sk-item\"><div class=\"sk-estimator sk-toggleable\"><input class=\"sk-toggleable__control sk-hidden--visually\" id=\"sk-estimator-id-54\" type=\"checkbox\" ><label for=\"sk-estimator-id-54\" class=\"sk-toggleable__label sk-toggleable__label-arrow\">LogisticRegression</label><div class=\"sk-toggleable__content\"><pre>LogisticRegression(max_iter=500)</pre></div></div></div></div></div></div><div class=\"sk-parallel-item\"><div class=\"sk-item\"><div class=\"sk-label-container\"><div class=\"sk-label sk-toggleable\"><label>KNN</label></div></div><div class=\"sk-serial\"><div class=\"sk-item\"><div class=\"sk-estimator sk-toggleable\"><input class=\"sk-toggleable__control sk-hidden--visually\" id=\"sk-estimator-id-55\" type=\"checkbox\" ><label for=\"sk-estimator-id-55\" class=\"sk-toggleable__label sk-toggleable__label-arrow\">KNeighborsClassifier</label><div class=\"sk-toggleable__content\"><pre>KNeighborsClassifier(leaf_size=5, n_neighbors=6)</pre></div></div></div></div></div></div></div></div></div></div></div></div>"
      ],
      "text/plain": [
       "Pipeline(steps=[('columntransformer',\n",
       "                 ColumnTransformer(n_jobs=-1,\n",
       "                                   transformers=[('num_pipeline',\n",
       "                                                  Pipeline(steps=[('impute',\n",
       "                                                                   SimpleImputer(strategy='median')),\n",
       "                                                                  ('scale',\n",
       "                                                                   StandardScaler())]),\n",
       "                                                  ['PhysicalHealthDays',\n",
       "                                                   'MentalHealthDays',\n",
       "                                                   'SleepHours',\n",
       "                                                   'HeightInMeters',\n",
       "                                                   'WeightInKilograms',\n",
       "                                                   'BMI']),\n",
       "                                                 ('nom_pipeline',\n",
       "                                                  Pipeline(steps=[('impute',\n",
       "                                                                   SimpleImputer(strategy='m...\n",
       "                                                                                               'but '\n",
       "                                                                                               'only '\n",
       "                                                                                               'during '\n",
       "                                                                                               'pregnancy '\n",
       "                                                                                               '(female)',\n",
       "                                                                                               'Yes']])),\n",
       "                                                                  ('scale',\n",
       "                                                                   StandardScaler())]),\n",
       "                                                  ['HadDiabetes'])])),\n",
       "                ('votingclassifier',\n",
       "                 VotingClassifier(estimators=[('RandomForest',\n",
       "                                               RandomForestClassifier(max_depth=5,\n",
       "                                                                      max_leaf_nodes=25,\n",
       "                                                                      n_estimators=25)),\n",
       "                                              ('LogisticRegression',\n",
       "                                               LogisticRegression(max_iter=500)),\n",
       "                                              ('KNN',\n",
       "                                               KNeighborsClassifier(leaf_size=5,\n",
       "                                                                    n_neighbors=6))]))])"
      ]
     },
     "execution_count": 116,
     "metadata": {},
     "output_type": "execute_result"
    }
   ],
   "source": [
    "vc_pipeline.fit(X_train, y_train)"
   ]
  },
  {
   "cell_type": "code",
   "execution_count": 117,
   "id": "0112847f-ff0b-44e5-8604-b2234b854af1",
   "metadata": {},
   "outputs": [
    {
     "data": {
      "text/plain": [
       "0.9464203770609412"
      ]
     },
     "execution_count": 117,
     "metadata": {},
     "output_type": "execute_result"
    }
   ],
   "source": [
    "vc_pipeline.score(X_train, y_train)"
   ]
  },
  {
   "cell_type": "code",
   "execution_count": 118,
   "id": "c31f5ab4-98c8-4985-8229-84e39378d7b4",
   "metadata": {},
   "outputs": [],
   "source": [
    "val_pred = vc_pipeline.predict(X_val)    "
   ]
  },
  {
   "cell_type": "code",
   "execution_count": 119,
   "id": "6e152124-b2f0-4950-aa76-e69136cdd118",
   "metadata": {},
   "outputs": [
    {
     "data": {
      "text/plain": [
       "0.9435379279143418"
      ]
     },
     "execution_count": 119,
     "metadata": {},
     "output_type": "execute_result"
    }
   ],
   "source": [
    "accuracy_score(y_val, val_pred)"
   ]
  },
  {
   "cell_type": "code",
   "execution_count": 120,
   "id": "015df706-7879-4204-bf34-87adcaece45a",
   "metadata": {},
   "outputs": [],
   "source": [
    "test_pred = vc_pipeline.predict(X_test)"
   ]
  },
  {
   "cell_type": "code",
   "execution_count": 121,
   "id": "fbdf5c88-8375-4f6a-b620-b988da6ce99c",
   "metadata": {},
   "outputs": [
    {
     "data": {
      "text/plain": [
       "0.9445642502752183"
      ]
     },
     "execution_count": 121,
     "metadata": {},
     "output_type": "execute_result"
    }
   ],
   "source": [
    "accuracy_score(y_test, test_pred)"
   ]
  },
  {
   "cell_type": "code",
   "execution_count": null,
   "id": "5dd3e33b-8702-41a5-91fe-21ccacaf1df9",
   "metadata": {},
   "outputs": [],
   "source": []
  },
  {
   "cell_type": "code",
   "execution_count": null,
   "id": "6c7a75b3-d743-4459-b8ec-74c07c6db841",
   "metadata": {},
   "outputs": [],
   "source": []
  },
  {
   "cell_type": "code",
   "execution_count": null,
   "id": "7377cb12-214d-4ecf-bc7d-89653fb07399",
   "metadata": {},
   "outputs": [],
   "source": []
  },
  {
   "cell_type": "code",
   "execution_count": null,
   "id": "7398256f-8a1e-4fa7-a3d9-d59dc51c861d",
   "metadata": {},
   "outputs": [],
   "source": []
  }
 ],
 "metadata": {
  "kernelspec": {
   "display_name": "Python 3 (ipykernel)",
   "language": "python",
   "name": "python3"
  },
  "language_info": {
   "codemirror_mode": {
    "name": "ipython",
    "version": 3
   },
   "file_extension": ".py",
   "mimetype": "text/x-python",
   "name": "python",
   "nbconvert_exporter": "python",
   "pygments_lexer": "ipython3",
   "version": "3.11.7"
  }
 },
 "nbformat": 4,
 "nbformat_minor": 5
}
